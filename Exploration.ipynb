{
 "cells": [
  {
   "cell_type": "markdown",
   "id": "90d4ab36-a24e-422a-81d6-3419c8354449",
   "metadata": {},
   "source": [
    "### Import Packages:"
   ]
  },
  {
   "cell_type": "code",
   "execution_count": 93,
   "id": "221f4007-ecb9-462f-89aa-418d17031bc1",
   "metadata": {},
   "outputs": [],
   "source": [
    "import numpy as np\n",
    "import pandas as pd\n",
    "import seaborn as sns\n",
    "import matplotlib.pyplot as plt\n",
    "\n",
    "import datetime as dt\n",
    "import matplotlib as mpl\n",
    "\n",
    "import calendar\n",
    "%matplotlib inline\n"
   ]
  },
  {
   "cell_type": "markdown",
   "id": "09c72bb9-5e15-4bf2-9b5e-adabf08d0cc5",
   "metadata": {
    "jp-MarkdownHeadingCollapsed": true
   },
   "source": [
    "### Import Dataset:"
   ]
  },
  {
   "cell_type": "markdown",
   "id": "fd9c0a2b-ed4d-45ca-b0ea-4f5185d7c52f",
   "metadata": {
    "jp-MarkdownHeadingCollapsed": true
   },
   "source": [
    "[Chicago Crimes](https://data.cityofchicago.org/Public-Safety/Crimes-2001-to-Present/ijzp-q8t2/about_data)\n",
    "\n",
    "This dataset contains reported crime incidents in Chicago from 2001 to the present. The data is sourced from the Chicago Police Department's CLEAR system, with addresses shown at the block level for privacy. The dataset may include preliminary and unverified information, and the crime classifications can change upon further investigation. Therefore, the accuracy and completeness of the data are not guaranteed.\n",
    "\n",
    "Download on August 7, 2024"
   ]
  },
  {
   "cell_type": "code",
   "execution_count": 2,
   "id": "ca3c557c-9097-4a3e-b3d5-38ef968db336",
   "metadata": {},
   "outputs": [],
   "source": [
    "crimes = pd.read_csv(\"Crimes_-_2001_to_Present_20240807.csv\")"
   ]
  },
  {
   "cell_type": "markdown",
   "id": "3d6d469b-cf11-4a51-be40-8be1846107c0",
   "metadata": {
    "jp-MarkdownHeadingCollapsed": true
   },
   "source": [
    "### Exploring the Dataset:"
   ]
  },
  {
   "cell_type": "code",
   "execution_count": 3,
   "id": "23f46add-0a56-4dad-954d-cc7d7b60b454",
   "metadata": {},
   "outputs": [
    {
     "data": {
      "text/html": [
       "<div>\n",
       "<style scoped>\n",
       "    .dataframe tbody tr th:only-of-type {\n",
       "        vertical-align: middle;\n",
       "    }\n",
       "\n",
       "    .dataframe tbody tr th {\n",
       "        vertical-align: top;\n",
       "    }\n",
       "\n",
       "    .dataframe thead th {\n",
       "        text-align: right;\n",
       "    }\n",
       "</style>\n",
       "<table border=\"1\" class=\"dataframe\">\n",
       "  <thead>\n",
       "    <tr style=\"text-align: right;\">\n",
       "      <th></th>\n",
       "      <th>ID</th>\n",
       "      <th>Case Number</th>\n",
       "      <th>Date</th>\n",
       "      <th>Block</th>\n",
       "      <th>IUCR</th>\n",
       "      <th>Primary Type</th>\n",
       "      <th>Description</th>\n",
       "      <th>Location Description</th>\n",
       "      <th>Arrest</th>\n",
       "      <th>Domestic</th>\n",
       "      <th>...</th>\n",
       "      <th>Ward</th>\n",
       "      <th>Community Area</th>\n",
       "      <th>FBI Code</th>\n",
       "      <th>X Coordinate</th>\n",
       "      <th>Y Coordinate</th>\n",
       "      <th>Year</th>\n",
       "      <th>Updated On</th>\n",
       "      <th>Latitude</th>\n",
       "      <th>Longitude</th>\n",
       "      <th>Location</th>\n",
       "    </tr>\n",
       "  </thead>\n",
       "  <tbody>\n",
       "    <tr>\n",
       "      <th>0</th>\n",
       "      <td>5741943</td>\n",
       "      <td>HN549294</td>\n",
       "      <td>08/25/2007 09:22:18 AM</td>\n",
       "      <td>074XX N ROGERS AVE</td>\n",
       "      <td>0560</td>\n",
       "      <td>ASSAULT</td>\n",
       "      <td>SIMPLE</td>\n",
       "      <td>OTHER</td>\n",
       "      <td>False</td>\n",
       "      <td>False</td>\n",
       "      <td>...</td>\n",
       "      <td>49.0</td>\n",
       "      <td>1.0</td>\n",
       "      <td>08A</td>\n",
       "      <td>NaN</td>\n",
       "      <td>NaN</td>\n",
       "      <td>2007</td>\n",
       "      <td>08/17/2015 03:03:40 PM</td>\n",
       "      <td>NaN</td>\n",
       "      <td>NaN</td>\n",
       "      <td>NaN</td>\n",
       "    </tr>\n",
       "    <tr>\n",
       "      <th>1</th>\n",
       "      <td>25953</td>\n",
       "      <td>JE240540</td>\n",
       "      <td>05/24/2021 03:06:00 PM</td>\n",
       "      <td>020XX N LARAMIE AVE</td>\n",
       "      <td>0110</td>\n",
       "      <td>HOMICIDE</td>\n",
       "      <td>FIRST DEGREE MURDER</td>\n",
       "      <td>STREET</td>\n",
       "      <td>True</td>\n",
       "      <td>False</td>\n",
       "      <td>...</td>\n",
       "      <td>36.0</td>\n",
       "      <td>19.0</td>\n",
       "      <td>01A</td>\n",
       "      <td>1141387.0</td>\n",
       "      <td>1913179.0</td>\n",
       "      <td>2021</td>\n",
       "      <td>11/18/2023 03:39:49 PM</td>\n",
       "      <td>41.917838</td>\n",
       "      <td>-87.755969</td>\n",
       "      <td>(41.917838056, -87.755968972)</td>\n",
       "    </tr>\n",
       "    <tr>\n",
       "      <th>2</th>\n",
       "      <td>26038</td>\n",
       "      <td>JE279849</td>\n",
       "      <td>06/26/2021 09:24:00 AM</td>\n",
       "      <td>062XX N MC CORMICK RD</td>\n",
       "      <td>0110</td>\n",
       "      <td>HOMICIDE</td>\n",
       "      <td>FIRST DEGREE MURDER</td>\n",
       "      <td>PARKING LOT</td>\n",
       "      <td>True</td>\n",
       "      <td>False</td>\n",
       "      <td>...</td>\n",
       "      <td>50.0</td>\n",
       "      <td>13.0</td>\n",
       "      <td>01A</td>\n",
       "      <td>1152781.0</td>\n",
       "      <td>1941458.0</td>\n",
       "      <td>2021</td>\n",
       "      <td>11/18/2023 03:39:49 PM</td>\n",
       "      <td>41.995219</td>\n",
       "      <td>-87.713355</td>\n",
       "      <td>(41.995219444, -87.713354912)</td>\n",
       "    </tr>\n",
       "    <tr>\n",
       "      <th>3</th>\n",
       "      <td>13279676</td>\n",
       "      <td>JG507211</td>\n",
       "      <td>11/09/2023 07:30:00 AM</td>\n",
       "      <td>019XX W BYRON ST</td>\n",
       "      <td>0620</td>\n",
       "      <td>BURGLARY</td>\n",
       "      <td>UNLAWFUL ENTRY</td>\n",
       "      <td>APARTMENT</td>\n",
       "      <td>False</td>\n",
       "      <td>False</td>\n",
       "      <td>...</td>\n",
       "      <td>47.0</td>\n",
       "      <td>5.0</td>\n",
       "      <td>05</td>\n",
       "      <td>1162518.0</td>\n",
       "      <td>1925906.0</td>\n",
       "      <td>2023</td>\n",
       "      <td>11/18/2023 03:39:49 PM</td>\n",
       "      <td>41.952345</td>\n",
       "      <td>-87.677975</td>\n",
       "      <td>(41.952345086, -87.677975059)</td>\n",
       "    </tr>\n",
       "    <tr>\n",
       "      <th>4</th>\n",
       "      <td>13274752</td>\n",
       "      <td>JG501049</td>\n",
       "      <td>11/12/2023 07:59:00 AM</td>\n",
       "      <td>086XX S COTTAGE GROVE AVE</td>\n",
       "      <td>0454</td>\n",
       "      <td>BATTERY</td>\n",
       "      <td>AGGRAVATED P.O. - HANDS, FISTS, FEET, NO / MIN...</td>\n",
       "      <td>SMALL RETAIL STORE</td>\n",
       "      <td>True</td>\n",
       "      <td>False</td>\n",
       "      <td>...</td>\n",
       "      <td>6.0</td>\n",
       "      <td>44.0</td>\n",
       "      <td>08B</td>\n",
       "      <td>1183071.0</td>\n",
       "      <td>1847869.0</td>\n",
       "      <td>2023</td>\n",
       "      <td>12/09/2023 03:41:24 PM</td>\n",
       "      <td>41.737751</td>\n",
       "      <td>-87.604856</td>\n",
       "      <td>(41.737750767, -87.604855911)</td>\n",
       "    </tr>\n",
       "  </tbody>\n",
       "</table>\n",
       "<p>5 rows × 22 columns</p>\n",
       "</div>"
      ],
      "text/plain": [
       "         ID Case Number                    Date                      Block  \\\n",
       "0   5741943    HN549294  08/25/2007 09:22:18 AM         074XX N ROGERS AVE   \n",
       "1     25953    JE240540  05/24/2021 03:06:00 PM        020XX N LARAMIE AVE   \n",
       "2     26038    JE279849  06/26/2021 09:24:00 AM      062XX N MC CORMICK RD   \n",
       "3  13279676    JG507211  11/09/2023 07:30:00 AM           019XX W BYRON ST   \n",
       "4  13274752    JG501049  11/12/2023 07:59:00 AM  086XX S COTTAGE GROVE AVE   \n",
       "\n",
       "   IUCR Primary Type                                        Description  \\\n",
       "0  0560      ASSAULT                                             SIMPLE   \n",
       "1  0110     HOMICIDE                                FIRST DEGREE MURDER   \n",
       "2  0110     HOMICIDE                                FIRST DEGREE MURDER   \n",
       "3  0620     BURGLARY                                     UNLAWFUL ENTRY   \n",
       "4  0454      BATTERY  AGGRAVATED P.O. - HANDS, FISTS, FEET, NO / MIN...   \n",
       "\n",
       "  Location Description  Arrest  Domestic  ...  Ward  Community Area  FBI Code  \\\n",
       "0                OTHER   False     False  ...  49.0             1.0       08A   \n",
       "1               STREET    True     False  ...  36.0            19.0       01A   \n",
       "2          PARKING LOT    True     False  ...  50.0            13.0       01A   \n",
       "3            APARTMENT   False     False  ...  47.0             5.0        05   \n",
       "4   SMALL RETAIL STORE    True     False  ...   6.0            44.0       08B   \n",
       "\n",
       "   X Coordinate Y Coordinate  Year              Updated On   Latitude  \\\n",
       "0           NaN          NaN  2007  08/17/2015 03:03:40 PM        NaN   \n",
       "1     1141387.0    1913179.0  2021  11/18/2023 03:39:49 PM  41.917838   \n",
       "2     1152781.0    1941458.0  2021  11/18/2023 03:39:49 PM  41.995219   \n",
       "3     1162518.0    1925906.0  2023  11/18/2023 03:39:49 PM  41.952345   \n",
       "4     1183071.0    1847869.0  2023  12/09/2023 03:41:24 PM  41.737751   \n",
       "\n",
       "   Longitude                       Location  \n",
       "0        NaN                            NaN  \n",
       "1 -87.755969  (41.917838056, -87.755968972)  \n",
       "2 -87.713355  (41.995219444, -87.713354912)  \n",
       "3 -87.677975  (41.952345086, -87.677975059)  \n",
       "4 -87.604856  (41.737750767, -87.604855911)  \n",
       "\n",
       "[5 rows x 22 columns]"
      ]
     },
     "execution_count": 3,
     "metadata": {},
     "output_type": "execute_result"
    }
   ],
   "source": [
    "crimes.head()"
   ]
  },
  {
   "cell_type": "code",
   "execution_count": 4,
   "id": "ad93f158-6610-4392-9905-0dceffbe1324",
   "metadata": {},
   "outputs": [
    {
     "data": {
      "text/plain": [
       "(8124924, 22)"
      ]
     },
     "execution_count": 4,
     "metadata": {},
     "output_type": "execute_result"
    }
   ],
   "source": [
    "crimes.shape"
   ]
  },
  {
   "cell_type": "code",
   "execution_count": 5,
   "id": "0c7bdcea-a5a0-4923-9606-a5a5b8c804c3",
   "metadata": {},
   "outputs": [
    {
     "data": {
      "text/plain": [
       "Index(['ID', 'Case Number', 'Date', 'Block', 'IUCR', 'Primary Type',\n",
       "       'Description', 'Location Description', 'Arrest', 'Domestic', 'Beat',\n",
       "       'District', 'Ward', 'Community Area', 'FBI Code', 'X Coordinate',\n",
       "       'Y Coordinate', 'Year', 'Updated On', 'Latitude', 'Longitude',\n",
       "       'Location'],\n",
       "      dtype='object')"
      ]
     },
     "execution_count": 5,
     "metadata": {},
     "output_type": "execute_result"
    }
   ],
   "source": [
    "crimes.columns"
   ]
  },
  {
   "cell_type": "code",
   "execution_count": 6,
   "id": "80cb257a-97ab-4f3a-a8af-ab175461c53f",
   "metadata": {
    "scrolled": true
   },
   "outputs": [
    {
     "data": {
      "text/html": [
       "<div>\n",
       "<style scoped>\n",
       "    .dataframe tbody tr th:only-of-type {\n",
       "        vertical-align: middle;\n",
       "    }\n",
       "\n",
       "    .dataframe tbody tr th {\n",
       "        vertical-align: top;\n",
       "    }\n",
       "\n",
       "    .dataframe thead th {\n",
       "        text-align: right;\n",
       "    }\n",
       "</style>\n",
       "<table border=\"1\" class=\"dataframe\">\n",
       "  <thead>\n",
       "    <tr style=\"text-align: right;\">\n",
       "      <th></th>\n",
       "      <th>ID</th>\n",
       "      <th>Beat</th>\n",
       "      <th>District</th>\n",
       "      <th>Ward</th>\n",
       "      <th>Community Area</th>\n",
       "      <th>X Coordinate</th>\n",
       "      <th>Y Coordinate</th>\n",
       "      <th>Year</th>\n",
       "      <th>Latitude</th>\n",
       "      <th>Longitude</th>\n",
       "    </tr>\n",
       "  </thead>\n",
       "  <tbody>\n",
       "    <tr>\n",
       "      <th>count</th>\n",
       "      <td>8.124924e+06</td>\n",
       "      <td>8.124924e+06</td>\n",
       "      <td>8.124877e+06</td>\n",
       "      <td>7.510095e+06</td>\n",
       "      <td>7.511471e+06</td>\n",
       "      <td>8.035359e+06</td>\n",
       "      <td>8.035359e+06</td>\n",
       "      <td>8.124924e+06</td>\n",
       "      <td>8.035359e+06</td>\n",
       "      <td>8.035359e+06</td>\n",
       "    </tr>\n",
       "    <tr>\n",
       "      <th>mean</th>\n",
       "      <td>7.287716e+06</td>\n",
       "      <td>1.184831e+03</td>\n",
       "      <td>1.129783e+01</td>\n",
       "      <td>2.277234e+01</td>\n",
       "      <td>3.742490e+01</td>\n",
       "      <td>1.164624e+06</td>\n",
       "      <td>1.885857e+06</td>\n",
       "      <td>2.010507e+03</td>\n",
       "      <td>4.184239e+01</td>\n",
       "      <td>-8.767141e+01</td>\n",
       "    </tr>\n",
       "    <tr>\n",
       "      <th>std</th>\n",
       "      <td>3.651799e+06</td>\n",
       "      <td>7.035314e+02</td>\n",
       "      <td>6.959403e+00</td>\n",
       "      <td>1.385536e+01</td>\n",
       "      <td>2.154685e+01</td>\n",
       "      <td>1.697767e+04</td>\n",
       "      <td>3.246718e+04</td>\n",
       "      <td>6.695795e+00</td>\n",
       "      <td>8.932984e-02</td>\n",
       "      <td>6.151431e-02</td>\n",
       "    </tr>\n",
       "    <tr>\n",
       "      <th>min</th>\n",
       "      <td>6.340000e+02</td>\n",
       "      <td>1.110000e+02</td>\n",
       "      <td>1.000000e+00</td>\n",
       "      <td>1.000000e+00</td>\n",
       "      <td>0.000000e+00</td>\n",
       "      <td>0.000000e+00</td>\n",
       "      <td>0.000000e+00</td>\n",
       "      <td>2.001000e+03</td>\n",
       "      <td>3.661945e+01</td>\n",
       "      <td>-9.168657e+01</td>\n",
       "    </tr>\n",
       "    <tr>\n",
       "      <th>25%</th>\n",
       "      <td>3.924455e+06</td>\n",
       "      <td>6.210000e+02</td>\n",
       "      <td>6.000000e+00</td>\n",
       "      <td>1.000000e+01</td>\n",
       "      <td>2.300000e+01</td>\n",
       "      <td>1.153023e+06</td>\n",
       "      <td>1.859130e+06</td>\n",
       "      <td>2.005000e+03</td>\n",
       "      <td>4.176883e+01</td>\n",
       "      <td>-8.771351e+01</td>\n",
       "    </tr>\n",
       "    <tr>\n",
       "      <th>50%</th>\n",
       "      <td>7.282940e+06</td>\n",
       "      <td>1.034000e+03</td>\n",
       "      <td>1.000000e+01</td>\n",
       "      <td>2.300000e+01</td>\n",
       "      <td>3.200000e+01</td>\n",
       "      <td>1.166163e+06</td>\n",
       "      <td>1.890860e+06</td>\n",
       "      <td>2.009000e+03</td>\n",
       "      <td>4.185618e+01</td>\n",
       "      <td>-8.766571e+01</td>\n",
       "    </tr>\n",
       "    <tr>\n",
       "      <th>75%</th>\n",
       "      <td>1.055823e+07</td>\n",
       "      <td>1.731000e+03</td>\n",
       "      <td>1.700000e+01</td>\n",
       "      <td>3.400000e+01</td>\n",
       "      <td>5.700000e+01</td>\n",
       "      <td>1.176389e+06</td>\n",
       "      <td>1.909370e+06</td>\n",
       "      <td>2.016000e+03</td>\n",
       "      <td>4.190700e+01</td>\n",
       "      <td>-8.762811e+01</td>\n",
       "    </tr>\n",
       "    <tr>\n",
       "      <th>max</th>\n",
       "      <td>1.355479e+07</td>\n",
       "      <td>2.535000e+03</td>\n",
       "      <td>3.100000e+01</td>\n",
       "      <td>5.000000e+01</td>\n",
       "      <td>7.700000e+01</td>\n",
       "      <td>1.205119e+06</td>\n",
       "      <td>1.951622e+06</td>\n",
       "      <td>2.024000e+03</td>\n",
       "      <td>4.202291e+01</td>\n",
       "      <td>-8.752453e+01</td>\n",
       "    </tr>\n",
       "  </tbody>\n",
       "</table>\n",
       "</div>"
      ],
      "text/plain": [
       "                 ID          Beat      District          Ward  Community Area  \\\n",
       "count  8.124924e+06  8.124924e+06  8.124877e+06  7.510095e+06    7.511471e+06   \n",
       "mean   7.287716e+06  1.184831e+03  1.129783e+01  2.277234e+01    3.742490e+01   \n",
       "std    3.651799e+06  7.035314e+02  6.959403e+00  1.385536e+01    2.154685e+01   \n",
       "min    6.340000e+02  1.110000e+02  1.000000e+00  1.000000e+00    0.000000e+00   \n",
       "25%    3.924455e+06  6.210000e+02  6.000000e+00  1.000000e+01    2.300000e+01   \n",
       "50%    7.282940e+06  1.034000e+03  1.000000e+01  2.300000e+01    3.200000e+01   \n",
       "75%    1.055823e+07  1.731000e+03  1.700000e+01  3.400000e+01    5.700000e+01   \n",
       "max    1.355479e+07  2.535000e+03  3.100000e+01  5.000000e+01    7.700000e+01   \n",
       "\n",
       "       X Coordinate  Y Coordinate          Year      Latitude     Longitude  \n",
       "count  8.035359e+06  8.035359e+06  8.124924e+06  8.035359e+06  8.035359e+06  \n",
       "mean   1.164624e+06  1.885857e+06  2.010507e+03  4.184239e+01 -8.767141e+01  \n",
       "std    1.697767e+04  3.246718e+04  6.695795e+00  8.932984e-02  6.151431e-02  \n",
       "min    0.000000e+00  0.000000e+00  2.001000e+03  3.661945e+01 -9.168657e+01  \n",
       "25%    1.153023e+06  1.859130e+06  2.005000e+03  4.176883e+01 -8.771351e+01  \n",
       "50%    1.166163e+06  1.890860e+06  2.009000e+03  4.185618e+01 -8.766571e+01  \n",
       "75%    1.176389e+06  1.909370e+06  2.016000e+03  4.190700e+01 -8.762811e+01  \n",
       "max    1.205119e+06  1.951622e+06  2.024000e+03  4.202291e+01 -8.752453e+01  "
      ]
     },
     "execution_count": 6,
     "metadata": {},
     "output_type": "execute_result"
    }
   ],
   "source": [
    "crimes.describe()"
   ]
  },
  {
   "cell_type": "code",
   "execution_count": 7,
   "id": "1d869976-aecd-4cba-8758-64d8fee844a7",
   "metadata": {
    "scrolled": true
   },
   "outputs": [
    {
     "data": {
      "text/plain": [
       "ID                           0\n",
       "Case Number                  0\n",
       "Date                         0\n",
       "Block                        0\n",
       "IUCR                         0\n",
       "Primary Type                 0\n",
       "Description                  0\n",
       "Location Description     13379\n",
       "Arrest                       0\n",
       "Domestic                     0\n",
       "Beat                         0\n",
       "District                    47\n",
       "Ward                    614829\n",
       "Community Area          613453\n",
       "FBI Code                     0\n",
       "X Coordinate             89565\n",
       "Y Coordinate             89565\n",
       "Year                         0\n",
       "Updated On                   0\n",
       "Latitude                 89565\n",
       "Longitude                89565\n",
       "Location                 89565\n",
       "dtype: int64"
      ]
     },
     "execution_count": 7,
     "metadata": {},
     "output_type": "execute_result"
    }
   ],
   "source": [
    "crimes.isnull().sum(axis=0)"
   ]
  },
  {
   "cell_type": "code",
   "execution_count": 8,
   "id": "c0cc8922-d9bf-4747-bcc1-ceb63aa049d0",
   "metadata": {
    "scrolled": true
   },
   "outputs": [
    {
     "data": {
      "text/html": [
       "<div>\n",
       "<style scoped>\n",
       "    .dataframe tbody tr th:only-of-type {\n",
       "        vertical-align: middle;\n",
       "    }\n",
       "\n",
       "    .dataframe tbody tr th {\n",
       "        vertical-align: top;\n",
       "    }\n",
       "\n",
       "    .dataframe thead th {\n",
       "        text-align: right;\n",
       "    }\n",
       "</style>\n",
       "<table border=\"1\" class=\"dataframe\">\n",
       "  <thead>\n",
       "    <tr style=\"text-align: right;\">\n",
       "      <th></th>\n",
       "      <th>ID</th>\n",
       "      <th>Case Number</th>\n",
       "      <th>Date</th>\n",
       "      <th>Block</th>\n",
       "      <th>IUCR</th>\n",
       "      <th>Primary Type</th>\n",
       "      <th>Description</th>\n",
       "      <th>Location Description</th>\n",
       "      <th>Arrest</th>\n",
       "      <th>Domestic</th>\n",
       "      <th>...</th>\n",
       "      <th>Ward</th>\n",
       "      <th>Community Area</th>\n",
       "      <th>FBI Code</th>\n",
       "      <th>X Coordinate</th>\n",
       "      <th>Y Coordinate</th>\n",
       "      <th>Year</th>\n",
       "      <th>Updated On</th>\n",
       "      <th>Latitude</th>\n",
       "      <th>Longitude</th>\n",
       "      <th>Location</th>\n",
       "    </tr>\n",
       "  </thead>\n",
       "  <tbody>\n",
       "    <tr>\n",
       "      <th>0</th>\n",
       "      <td>5741943</td>\n",
       "      <td>HN549294</td>\n",
       "      <td>08/25/2007 09:22:18 AM</td>\n",
       "      <td>074XX N ROGERS AVE</td>\n",
       "      <td>0560</td>\n",
       "      <td>ASSAULT</td>\n",
       "      <td>SIMPLE</td>\n",
       "      <td>OTHER</td>\n",
       "      <td>False</td>\n",
       "      <td>False</td>\n",
       "      <td>...</td>\n",
       "      <td>49.0</td>\n",
       "      <td>1.0</td>\n",
       "      <td>08A</td>\n",
       "      <td>NaN</td>\n",
       "      <td>NaN</td>\n",
       "      <td>2007</td>\n",
       "      <td>08/17/2015 03:03:40 PM</td>\n",
       "      <td>NaN</td>\n",
       "      <td>NaN</td>\n",
       "      <td>NaN</td>\n",
       "    </tr>\n",
       "    <tr>\n",
       "      <th>5</th>\n",
       "      <td>1930689</td>\n",
       "      <td>HH109118</td>\n",
       "      <td>01/05/2002 09:24:00 PM</td>\n",
       "      <td>007XX E 103 ST</td>\n",
       "      <td>0820</td>\n",
       "      <td>THEFT</td>\n",
       "      <td>$500 AND UNDER</td>\n",
       "      <td>GAS STATION</td>\n",
       "      <td>True</td>\n",
       "      <td>False</td>\n",
       "      <td>...</td>\n",
       "      <td>NaN</td>\n",
       "      <td>NaN</td>\n",
       "      <td>06</td>\n",
       "      <td>NaN</td>\n",
       "      <td>NaN</td>\n",
       "      <td>2002</td>\n",
       "      <td>02/04/2016 06:33:39 AM</td>\n",
       "      <td>NaN</td>\n",
       "      <td>NaN</td>\n",
       "      <td>NaN</td>\n",
       "    </tr>\n",
       "    <tr>\n",
       "      <th>27</th>\n",
       "      <td>12416972</td>\n",
       "      <td>JE293535</td>\n",
       "      <td>10/01/2020 12:01:00 AM</td>\n",
       "      <td>031XX W 53RD PL</td>\n",
       "      <td>1753</td>\n",
       "      <td>OFFENSE INVOLVING CHILDREN</td>\n",
       "      <td>SEXUAL ASSAULT OF CHILD BY FAMILY MEMBER</td>\n",
       "      <td>RESIDENCE</td>\n",
       "      <td>False</td>\n",
       "      <td>True</td>\n",
       "      <td>...</td>\n",
       "      <td>14.0</td>\n",
       "      <td>63.0</td>\n",
       "      <td>02</td>\n",
       "      <td>NaN</td>\n",
       "      <td>NaN</td>\n",
       "      <td>2020</td>\n",
       "      <td>09/14/2023 03:41:59 PM</td>\n",
       "      <td>NaN</td>\n",
       "      <td>NaN</td>\n",
       "      <td>NaN</td>\n",
       "    </tr>\n",
       "    <tr>\n",
       "      <th>28</th>\n",
       "      <td>12416974</td>\n",
       "      <td>JE293464</td>\n",
       "      <td>08/10/2011 12:01:00 AM</td>\n",
       "      <td>031XX W 53RD PL</td>\n",
       "      <td>1753</td>\n",
       "      <td>OFFENSE INVOLVING CHILDREN</td>\n",
       "      <td>SEXUAL ASSAULT OF CHILD BY FAMILY MEMBER</td>\n",
       "      <td>RESIDENCE</td>\n",
       "      <td>False</td>\n",
       "      <td>True</td>\n",
       "      <td>...</td>\n",
       "      <td>14.0</td>\n",
       "      <td>63.0</td>\n",
       "      <td>02</td>\n",
       "      <td>NaN</td>\n",
       "      <td>NaN</td>\n",
       "      <td>2011</td>\n",
       "      <td>09/14/2023 03:41:59 PM</td>\n",
       "      <td>NaN</td>\n",
       "      <td>NaN</td>\n",
       "      <td>NaN</td>\n",
       "    </tr>\n",
       "    <tr>\n",
       "      <th>29</th>\n",
       "      <td>12536164</td>\n",
       "      <td>JE439378</td>\n",
       "      <td>09/24/2015 12:00:00 AM</td>\n",
       "      <td>031XX W 53RD PL</td>\n",
       "      <td>1753</td>\n",
       "      <td>OFFENSE INVOLVING CHILDREN</td>\n",
       "      <td>SEXUAL ASSAULT OF CHILD BY FAMILY MEMBER</td>\n",
       "      <td>APARTMENT</td>\n",
       "      <td>False</td>\n",
       "      <td>True</td>\n",
       "      <td>...</td>\n",
       "      <td>14.0</td>\n",
       "      <td>63.0</td>\n",
       "      <td>02</td>\n",
       "      <td>NaN</td>\n",
       "      <td>NaN</td>\n",
       "      <td>2015</td>\n",
       "      <td>09/14/2023 03:41:59 PM</td>\n",
       "      <td>NaN</td>\n",
       "      <td>NaN</td>\n",
       "      <td>NaN</td>\n",
       "    </tr>\n",
       "    <tr>\n",
       "      <th>...</th>\n",
       "      <td>...</td>\n",
       "      <td>...</td>\n",
       "      <td>...</td>\n",
       "      <td>...</td>\n",
       "      <td>...</td>\n",
       "      <td>...</td>\n",
       "      <td>...</td>\n",
       "      <td>...</td>\n",
       "      <td>...</td>\n",
       "      <td>...</td>\n",
       "      <td>...</td>\n",
       "      <td>...</td>\n",
       "      <td>...</td>\n",
       "      <td>...</td>\n",
       "      <td>...</td>\n",
       "      <td>...</td>\n",
       "      <td>...</td>\n",
       "      <td>...</td>\n",
       "      <td>...</td>\n",
       "      <td>...</td>\n",
       "      <td>...</td>\n",
       "    </tr>\n",
       "    <tr>\n",
       "      <th>8124028</th>\n",
       "      <td>13048321</td>\n",
       "      <td>JG160889</td>\n",
       "      <td>09/17/2021 12:00:00 AM</td>\n",
       "      <td>016XX N MASON AVE</td>\n",
       "      <td>1582</td>\n",
       "      <td>OFFENSE INVOLVING CHILDREN</td>\n",
       "      <td>CHILD PORNOGRAPHY</td>\n",
       "      <td>RESIDENCE</td>\n",
       "      <td>True</td>\n",
       "      <td>False</td>\n",
       "      <td>...</td>\n",
       "      <td>29.0</td>\n",
       "      <td>25.0</td>\n",
       "      <td>17</td>\n",
       "      <td>NaN</td>\n",
       "      <td>NaN</td>\n",
       "      <td>2021</td>\n",
       "      <td>04/22/2023 03:40:07 PM</td>\n",
       "      <td>NaN</td>\n",
       "      <td>NaN</td>\n",
       "      <td>NaN</td>\n",
       "    </tr>\n",
       "    <tr>\n",
       "      <th>8124204</th>\n",
       "      <td>13062643</td>\n",
       "      <td>JG248264</td>\n",
       "      <td>04/12/2022 12:00:00 AM</td>\n",
       "      <td>074XX S WABASH AVE</td>\n",
       "      <td>1154</td>\n",
       "      <td>DECEPTIVE PRACTICE</td>\n",
       "      <td>FINANCIAL IDENTITY THEFT $300 AND UNDER</td>\n",
       "      <td>RESIDENCE</td>\n",
       "      <td>False</td>\n",
       "      <td>False</td>\n",
       "      <td>...</td>\n",
       "      <td>6.0</td>\n",
       "      <td>69.0</td>\n",
       "      <td>11</td>\n",
       "      <td>NaN</td>\n",
       "      <td>NaN</td>\n",
       "      <td>2022</td>\n",
       "      <td>05/05/2023 03:41:14 PM</td>\n",
       "      <td>NaN</td>\n",
       "      <td>NaN</td>\n",
       "      <td>NaN</td>\n",
       "    </tr>\n",
       "    <tr>\n",
       "      <th>8124253</th>\n",
       "      <td>13092803</td>\n",
       "      <td>JG284184</td>\n",
       "      <td>08/23/2021 12:00:00 AM</td>\n",
       "      <td>036XX W SHAKESPEARE AVE</td>\n",
       "      <td>1563</td>\n",
       "      <td>SEX OFFENSE</td>\n",
       "      <td>CRIMINAL SEXUAL ABUSE</td>\n",
       "      <td>RESIDENCE</td>\n",
       "      <td>False</td>\n",
       "      <td>True</td>\n",
       "      <td>...</td>\n",
       "      <td>35.0</td>\n",
       "      <td>22.0</td>\n",
       "      <td>17</td>\n",
       "      <td>NaN</td>\n",
       "      <td>NaN</td>\n",
       "      <td>2021</td>\n",
       "      <td>06/02/2023 03:41:42 PM</td>\n",
       "      <td>NaN</td>\n",
       "      <td>NaN</td>\n",
       "      <td>NaN</td>\n",
       "    </tr>\n",
       "    <tr>\n",
       "      <th>8124481</th>\n",
       "      <td>13099981</td>\n",
       "      <td>JG292625</td>\n",
       "      <td>03/01/2022 12:00:00 AM</td>\n",
       "      <td>019XX S WABASH AVE</td>\n",
       "      <td>0460</td>\n",
       "      <td>BATTERY</td>\n",
       "      <td>SIMPLE</td>\n",
       "      <td>APARTMENT</td>\n",
       "      <td>False</td>\n",
       "      <td>False</td>\n",
       "      <td>...</td>\n",
       "      <td>3.0</td>\n",
       "      <td>33.0</td>\n",
       "      <td>08B</td>\n",
       "      <td>NaN</td>\n",
       "      <td>NaN</td>\n",
       "      <td>2022</td>\n",
       "      <td>06/08/2023 03:42:44 PM</td>\n",
       "      <td>NaN</td>\n",
       "      <td>NaN</td>\n",
       "      <td>NaN</td>\n",
       "    </tr>\n",
       "    <tr>\n",
       "      <th>8124783</th>\n",
       "      <td>13059297</td>\n",
       "      <td>JG243959</td>\n",
       "      <td>10/05/2019 01:30:00 PM</td>\n",
       "      <td>048XX W DEMING PL</td>\n",
       "      <td>0810</td>\n",
       "      <td>THEFT</td>\n",
       "      <td>OVER $500</td>\n",
       "      <td>COMMERCIAL / BUSINESS OFFICE</td>\n",
       "      <td>False</td>\n",
       "      <td>False</td>\n",
       "      <td>...</td>\n",
       "      <td>31.0</td>\n",
       "      <td>19.0</td>\n",
       "      <td>06</td>\n",
       "      <td>NaN</td>\n",
       "      <td>NaN</td>\n",
       "      <td>2019</td>\n",
       "      <td>05/02/2023 03:43:43 PM</td>\n",
       "      <td>NaN</td>\n",
       "      <td>NaN</td>\n",
       "      <td>NaN</td>\n",
       "    </tr>\n",
       "  </tbody>\n",
       "</table>\n",
       "<p>89565 rows × 22 columns</p>\n",
       "</div>"
      ],
      "text/plain": [
       "               ID Case Number                    Date  \\\n",
       "0         5741943    HN549294  08/25/2007 09:22:18 AM   \n",
       "5         1930689    HH109118  01/05/2002 09:24:00 PM   \n",
       "27       12416972    JE293535  10/01/2020 12:01:00 AM   \n",
       "28       12416974    JE293464  08/10/2011 12:01:00 AM   \n",
       "29       12536164    JE439378  09/24/2015 12:00:00 AM   \n",
       "...           ...         ...                     ...   \n",
       "8124028  13048321    JG160889  09/17/2021 12:00:00 AM   \n",
       "8124204  13062643    JG248264  04/12/2022 12:00:00 AM   \n",
       "8124253  13092803    JG284184  08/23/2021 12:00:00 AM   \n",
       "8124481  13099981    JG292625  03/01/2022 12:00:00 AM   \n",
       "8124783  13059297    JG243959  10/05/2019 01:30:00 PM   \n",
       "\n",
       "                           Block  IUCR                Primary Type  \\\n",
       "0             074XX N ROGERS AVE  0560                     ASSAULT   \n",
       "5                 007XX E 103 ST  0820                       THEFT   \n",
       "27               031XX W 53RD PL  1753  OFFENSE INVOLVING CHILDREN   \n",
       "28               031XX W 53RD PL  1753  OFFENSE INVOLVING CHILDREN   \n",
       "29               031XX W 53RD PL  1753  OFFENSE INVOLVING CHILDREN   \n",
       "...                          ...   ...                         ...   \n",
       "8124028        016XX N MASON AVE  1582  OFFENSE INVOLVING CHILDREN   \n",
       "8124204       074XX S WABASH AVE  1154          DECEPTIVE PRACTICE   \n",
       "8124253  036XX W SHAKESPEARE AVE  1563                 SEX OFFENSE   \n",
       "8124481       019XX S WABASH AVE  0460                     BATTERY   \n",
       "8124783        048XX W DEMING PL  0810                       THEFT   \n",
       "\n",
       "                                      Description  \\\n",
       "0                                          SIMPLE   \n",
       "5                                  $500 AND UNDER   \n",
       "27       SEXUAL ASSAULT OF CHILD BY FAMILY MEMBER   \n",
       "28       SEXUAL ASSAULT OF CHILD BY FAMILY MEMBER   \n",
       "29       SEXUAL ASSAULT OF CHILD BY FAMILY MEMBER   \n",
       "...                                           ...   \n",
       "8124028                         CHILD PORNOGRAPHY   \n",
       "8124204   FINANCIAL IDENTITY THEFT $300 AND UNDER   \n",
       "8124253                     CRIMINAL SEXUAL ABUSE   \n",
       "8124481                                    SIMPLE   \n",
       "8124783                                 OVER $500   \n",
       "\n",
       "                 Location Description  Arrest  Domestic  ...  Ward  \\\n",
       "0                               OTHER   False     False  ...  49.0   \n",
       "5                         GAS STATION    True     False  ...   NaN   \n",
       "27                          RESIDENCE   False      True  ...  14.0   \n",
       "28                          RESIDENCE   False      True  ...  14.0   \n",
       "29                          APARTMENT   False      True  ...  14.0   \n",
       "...                               ...     ...       ...  ...   ...   \n",
       "8124028                     RESIDENCE    True     False  ...  29.0   \n",
       "8124204                     RESIDENCE   False     False  ...   6.0   \n",
       "8124253                     RESIDENCE   False      True  ...  35.0   \n",
       "8124481                     APARTMENT   False     False  ...   3.0   \n",
       "8124783  COMMERCIAL / BUSINESS OFFICE   False     False  ...  31.0   \n",
       "\n",
       "         Community Area  FBI Code  X Coordinate Y Coordinate  Year  \\\n",
       "0                   1.0       08A           NaN          NaN  2007   \n",
       "5                   NaN        06           NaN          NaN  2002   \n",
       "27                 63.0        02           NaN          NaN  2020   \n",
       "28                 63.0        02           NaN          NaN  2011   \n",
       "29                 63.0        02           NaN          NaN  2015   \n",
       "...                 ...       ...           ...          ...   ...   \n",
       "8124028            25.0        17           NaN          NaN  2021   \n",
       "8124204            69.0        11           NaN          NaN  2022   \n",
       "8124253            22.0        17           NaN          NaN  2021   \n",
       "8124481            33.0       08B           NaN          NaN  2022   \n",
       "8124783            19.0        06           NaN          NaN  2019   \n",
       "\n",
       "                     Updated On  Latitude Longitude  Location  \n",
       "0        08/17/2015 03:03:40 PM       NaN       NaN       NaN  \n",
       "5        02/04/2016 06:33:39 AM       NaN       NaN       NaN  \n",
       "27       09/14/2023 03:41:59 PM       NaN       NaN       NaN  \n",
       "28       09/14/2023 03:41:59 PM       NaN       NaN       NaN  \n",
       "29       09/14/2023 03:41:59 PM       NaN       NaN       NaN  \n",
       "...                         ...       ...       ...       ...  \n",
       "8124028  04/22/2023 03:40:07 PM       NaN       NaN       NaN  \n",
       "8124204  05/05/2023 03:41:14 PM       NaN       NaN       NaN  \n",
       "8124253  06/02/2023 03:41:42 PM       NaN       NaN       NaN  \n",
       "8124481  06/08/2023 03:42:44 PM       NaN       NaN       NaN  \n",
       "8124783  05/02/2023 03:43:43 PM       NaN       NaN       NaN  \n",
       "\n",
       "[89565 rows x 22 columns]"
      ]
     },
     "execution_count": 8,
     "metadata": {},
     "output_type": "execute_result"
    }
   ],
   "source": [
    "crimes[crimes['Longitude'].isnull()]"
   ]
  },
  {
   "cell_type": "code",
   "execution_count": 9,
   "id": "df138031-d1b3-4939-afee-d60dd3e69242",
   "metadata": {},
   "outputs": [
    {
     "data": {
      "text/plain": [
       "ID                      0.000000\n",
       "Updated On              0.000000\n",
       "Year                    0.000000\n",
       "FBI Code                0.000000\n",
       "Domestic                0.000000\n",
       "Arrest                  0.000000\n",
       "Beat                    0.000000\n",
       "Primary Type            0.000000\n",
       "IUCR                    0.000000\n",
       "Block                   0.000000\n",
       "Date                    0.000000\n",
       "Case Number             0.000000\n",
       "Description             0.000000\n",
       "District                0.000006\n",
       "Location Description    0.001649\n",
       "Longitude               0.011146\n",
       "X Coordinate            0.011146\n",
       "Y Coordinate            0.011146\n",
       "Latitude                0.011146\n",
       "Location                0.011146\n",
       "Community Area          0.081669\n",
       "Ward                    0.081867\n",
       "dtype: float64"
      ]
     },
     "execution_count": 9,
     "metadata": {},
     "output_type": "execute_result"
    }
   ],
   "source": [
    "(crimes.isnull().sum(axis=0)/crimes.count()).sort_values()"
   ]
  },
  {
   "cell_type": "markdown",
   "id": "ebe5f5e9-4cc2-49ad-a343-f05d337b1bb4",
   "metadata": {},
   "source": [
    "1.1% of the rows have nulll values for their location data, while the other information looks relevant, the location data is unable to be used."
   ]
  },
  {
   "cell_type": "code",
   "execution_count": 10,
   "id": "9a0e84af-d93d-415b-bd95-83a6aaff6b26",
   "metadata": {},
   "outputs": [
    {
     "ename": "NameError",
     "evalue": "name 'sb' is not defined",
     "output_type": "error",
     "traceback": [
      "\u001b[0;31m---------------------------------------------------------------------------\u001b[0m",
      "\u001b[0;31mNameError\u001b[0m                                 Traceback (most recent call last)",
      "Cell \u001b[0;32mIn[10], line 1\u001b[0m\n\u001b[0;32m----> 1\u001b[0m sb\u001b[38;5;241m.\u001b[39mscatterplot(data \u001b[38;5;241m=\u001b[39m crimes, x \u001b[38;5;241m=\u001b[39m \u001b[38;5;124m'\u001b[39m\u001b[38;5;124mX Coordinate\u001b[39m\u001b[38;5;124m'\u001b[39m, y \u001b[38;5;241m=\u001b[39m \u001b[38;5;124m'\u001b[39m\u001b[38;5;124mY Coordinate\u001b[39m\u001b[38;5;124m'\u001b[39m)\n",
      "\u001b[0;31mNameError\u001b[0m: name 'sb' is not defined"
     ]
    }
   ],
   "source": [
    "sb.scatterplot(data = crimes, x = 'X Coordinate', y = 'Y Coordinate')"
   ]
  },
  {
   "cell_type": "markdown",
   "id": "c4e49539-7f3d-484c-99bb-7df33567350a",
   "metadata": {
    "jp-MarkdownHeadingCollapsed": true
   },
   "source": [
    "### Removing Coordinate Columns:"
   ]
  },
  {
   "cell_type": "markdown",
   "id": "5e582f47-13c9-4744-9fa0-ff765d12ddef",
   "metadata": {
    "jp-MarkdownHeadingCollapsed": true
   },
   "source": [
    "The columns \"X Coordinate\" and \"Y Coordinate\" are in a format that isn't the standard coordinates but \"The [X/Y] coordinate of the location where the incident occurred in State Plane Illinois East NAD 1983 projection. This location is shifted from the actual location for partial redaction but falls on the same block.\"\n",
    "\n",
    "Taken from [About Data](https://data.cityofchicago.org/Public-Safety/Crimes-2001-to-Present/ijzp-q8t2/about_data) and under \"What's in this Dataset?\" section\n",
    "\n",
    "This is why it doesn't look close to the typically seen coordinates of Chicago: 41.8781° N, 87.6298° W (Removing these columns)"
   ]
  },
  {
   "cell_type": "code",
   "execution_count": null,
   "id": "5faa63a0-608b-40f1-9527-8a1fe5863041",
   "metadata": {},
   "outputs": [],
   "source": [
    "crimes = crimes.drop(columns=['X Coordinate', 'Y Coordinate'])"
   ]
  },
  {
   "cell_type": "code",
   "execution_count": null,
   "id": "8d0f26cd-f27a-45af-b4c0-d5e19c782189",
   "metadata": {},
   "outputs": [],
   "source": [
    "sb.scatterplot(data = crimes, x = 'Longitude', y = 'Latitude')"
   ]
  },
  {
   "cell_type": "code",
   "execution_count": null,
   "id": "bfcd35e8-fa36-42bf-a836-71ea044b8a60",
   "metadata": {},
   "outputs": [],
   "source": [
    "crimes.query(\"Longitude < -90\")['Location'].value_counts()"
   ]
  },
  {
   "cell_type": "markdown",
   "id": "c04e4e9d-9538-4c09-8368-e4e845847536",
   "metadata": {
    "jp-MarkdownHeadingCollapsed": true
   },
   "source": [
    "### Removing Missouri Locations:"
   ]
  },
  {
   "cell_type": "markdown",
   "id": "eb7b4efc-5f8c-4d65-9a5d-1a2a3ea3b737",
   "metadata": {},
   "source": [
    "While there are no more crimes in (0,0), there look to be 149 in (36.6N, 91.7W)\n",
    "\n",
    "This location is in in Missouri, a 500 mile, 8 hour journey from Chicago. \n",
    "\n",
    "(Move these values to null)"
   ]
  },
  {
   "cell_type": "code",
   "execution_count": null,
   "id": "d30a4d38-fa1c-4e48-8d99-f4a4e1fa49db",
   "metadata": {},
   "outputs": [],
   "source": [
    "missouri = crimes[\"Longitude\"] < - 90\n",
    "crimes.loc[missouri,[\"Longitude\", \"Latitude\"]] = np.nan"
   ]
  },
  {
   "cell_type": "code",
   "execution_count": null,
   "id": "59bf6716-22c1-4f78-b9f6-54163a76dfb4",
   "metadata": {},
   "outputs": [],
   "source": [
    "sb.scatterplot(data = crimes, x = 'Longitude', y = 'Latitude')"
   ]
  },
  {
   "cell_type": "markdown",
   "id": "217f8853-c96d-41de-a216-3803c7514e5e",
   "metadata": {
    "jp-MarkdownHeadingCollapsed": true
   },
   "source": [
    "### Aspect Ratio Distortion:"
   ]
  },
  {
   "cell_type": "markdown",
   "id": "3d694ebd-3b88-4214-9281-7f180192c8fa",
   "metadata": {},
   "source": [
    "While this does look like the shape of the Chicago, the proportions look off. "
   ]
  },
  {
   "cell_type": "code",
   "execution_count": null,
   "id": "b4478024-7bec-4f49-9bd0-fd24560ad733",
   "metadata": {
    "jp-MarkdownHeadingCollapsed": true
   },
   "outputs": [],
   "source": [
    "plt.scatter(crimes['Longitude'], crimes['Latitude'])\n",
    "\n",
    "plt.plot(-87.63,41.88,'go')\n",
    "plt.plot(-87.63,41.78,'ro')\n",
    "plt.plot(-87.73,41.88,'yo')\n",
    "plt.show()"
   ]
  },
  {
   "cell_type": "markdown",
   "id": "ef852b57-8c43-4962-b825-93a390acb62d",
   "metadata": {},
   "source": [
    "The green point represents the center of chicago, and the yellow and red points represent 0.1 degrees of Longitude and Latitude difference respectively. However while they are the same difference on a coordinate perspective, they have different distances.\n",
    "\n",
    "Longitude: (Green to Yellow) 8.28km\n",
    "\n",
    "Latitude: (Green to Red) 11.12km\n",
    "\n",
    "Each degree of latitude amounts to 34% more disance in the same coordinate difference longitudinally. The map will have to be scaled accordingly."
   ]
  },
  {
   "cell_type": "code",
   "execution_count": null,
   "id": "00b07206-1b57-4299-bd60-56e929537836",
   "metadata": {},
   "outputs": [],
   "source": [
    "plt.figure(figsize = (5,6.7))\n",
    "plt.scatter(crimes['Longitude'], crimes['Latitude'], s = 1)\n",
    "\n",
    "plt.plot(-87.63,41.88,'go')\n",
    "plt.plot(-87.63,41.78,'ro')\n",
    "plt.plot(-87.73,41.88,'yo')\n",
    "\n",
    "plt.xlabel('Longitude')\n",
    "plt.ylabel('Latitude')\n",
    "plt.title('Location of Crimes in Chicago')\n",
    "\n",
    "plt.grid(True)\n",
    "plt.show()"
   ]
  },
  {
   "cell_type": "markdown",
   "id": "1f5f79c1-0926-47bd-9cbc-1c7def22b7a9",
   "metadata": {},
   "source": [
    "The proportions of this map look now a lot closer the typical aspect ratio of the city of Chicago. "
   ]
  },
  {
   "cell_type": "markdown",
   "id": "1cdbdc63-0863-4688-8131-945f4fa91c42",
   "metadata": {
    "jp-MarkdownHeadingCollapsed": true
   },
   "source": [
    "### Where are crimes happening?"
   ]
  },
  {
   "cell_type": "code",
   "execution_count": null,
   "id": "e0603665-e8d6-4cda-a414-e4f2b2667cf2",
   "metadata": {},
   "outputs": [],
   "source": [
    "plt.figure(figsize = (5,6.7))\n",
    "plt.scatter(crimes['Longitude'], crimes['Latitude'], s = 1, alpha = 0.002)\n",
    "\n",
    "plt.xlabel('Longitude')\n",
    "plt.ylabel('Latitude')\n",
    "plt.title('Location of Crimes in Chicago')\n",
    "\n",
    "plt.grid(True)\n",
    "plt.show()"
   ]
  },
  {
   "cell_type": "markdown",
   "id": "f0b026c5-1d90-4dd0-82e7-297b6217f987",
   "metadata": {},
   "source": [
    "Even with dropping the alpha level to as low as possible (0.002), most of the map is still in this fairly dark shade as this is a build up of over 20 years of reported data"
   ]
  },
  {
   "cell_type": "code",
   "execution_count": null,
   "id": "bc2371e4-3a77-4c35-96fe-992aabd79b3d",
   "metadata": {},
   "outputs": [],
   "source": []
  },
  {
   "cell_type": "code",
   "execution_count": null,
   "id": "53c232c4-7ddc-42f3-8d03-f5a3c7f588c6",
   "metadata": {},
   "outputs": [],
   "source": [
    "crimes23 = crimes[crimes['Date'].dt.year == 2023]"
   ]
  },
  {
   "cell_type": "code",
   "execution_count": null,
   "id": "68b979c7-39e9-4559-baa9-c9b2de216f83",
   "metadata": {
    "scrolled": true
   },
   "outputs": [],
   "source": [
    "crimes23"
   ]
  },
  {
   "cell_type": "code",
   "execution_count": null,
   "id": "1fe95f16-5a04-44e7-9574-21c0a4f03dc9",
   "metadata": {},
   "outputs": [],
   "source": [
    "plt.figure(figsize = (5,6.7))\n",
    "plt.scatter(crimes23['Longitude'], crimes23['Latitude'], s = 1, alpha = 0.01)\n",
    "\n",
    "plt.xlabel('Longitude')\n",
    "plt.ylabel('Latitude')\n",
    "plt.title('Location of Crimes in Chicago in 2023')\n",
    "\n",
    "plt.grid(True)\n",
    "plt.show()"
   ]
  },
  {
   "cell_type": "markdown",
   "id": "1d70f71a-df46-44a1-83aa-f8823139d799",
   "metadata": {},
   "source": [
    "Loading it with only crimes from 2023 shows a concentration in the downtown area of Chicago and fewer crimes on the outer parts of the city."
   ]
  },
  {
   "cell_type": "markdown",
   "id": "b90eef89-a47f-4672-bafc-98a745aefbf9",
   "metadata": {
    "jp-MarkdownHeadingCollapsed": true
   },
   "source": [
    "### Annual Crime Trends"
   ]
  },
  {
   "cell_type": "code",
   "execution_count": 16,
   "id": "932d1560-7e8b-430c-9395-15dd49acd97f",
   "metadata": {},
   "outputs": [],
   "source": [
    "crimes['Date'] = pd.to_datetime(crimes['Date'], errors='coerce')\n",
    "crimes['Year'] = crimes['Date'].dt.year\n",
    "crimes['Month'] = crimes['Date'].dt.month\n",
    "crimes['Day'] = crimes['Date'].dt.day\n",
    "crimes['Dow'] = crimes['Date'].dt.dayofweek\n",
    "crimes['Hour'] = crimes['Date'].dt.hour"
   ]
  },
  {
   "cell_type": "code",
   "execution_count": 58,
   "id": "a26d1044-a7f6-4f8d-aa65-595092bf8f1e",
   "metadata": {},
   "outputs": [
    {
     "data": {
      "image/png": "[encoded data removed]",
      "text/plain": [
       "<Figure size 1000x600 with 1 Axes>"
      ]
     },
     "metadata": {},
     "output_type": "display_data"
    }
   ],
   "source": [
    "crimes_per_year = crimes['Year'].value_counts().sort_index()\n",
    "\n",
    "plt.figure(figsize=(10,6))\n",
    "plt.bar(crimes_per_year.index,crimes_per_year.values,zorder=2)\n",
    "\n",
    "plt.title('Number of Crimes Recorded Per Year in Chicago (2001 - 2023)')\n",
    "plt.xlabel('Year')\n",
    "plt.ylabel('Number of Crimes')\n",
    "\n",
    "\n",
    "plt.xticks(np.arange(2001,2025,2))\n",
    "plt.xlim(2000.5,2023.5)\n",
    "\n",
    "plt.yticks(np.arange(0,500001,100000), ['0', '100k', '200k', '300k', '400k', '500k'])\n",
    "plt.ylim(0,500000)\n",
    "\n",
    "plt.grid(True, zorder=1)\n",
    "\n",
    "plt.show()"
   ]
  },
  {
   "cell_type": "markdown",
   "id": "75f0734b-3ff1-4258-aa96-f2e370b4db48",
   "metadata": {},
   "source": [
    "While the number of crimes have gone down since the start of the recording of this datset, there has been an increase in the last to years.\n",
    "However that looks to be a return to the plateau continuing from 2014/2015 to 2019."
   ]
  },
  {
   "cell_type": "markdown",
   "id": "5acfc526-b209-4d14-a1ce-c43a1fcd3c59",
   "metadata": {
    "jp-MarkdownHeadingCollapsed": true
   },
   "source": [
    "### Crimes per month"
   ]
  },
  {
   "cell_type": "code",
   "execution_count": 65,
   "id": "39382d9a-a4e8-46c6-a1c2-ea8436252914",
   "metadata": {},
   "outputs": [],
   "source": [
    "pre2024 = crimes[crimes['Year'] < 2024]\n",
    "crimes_per_month = pre2024['Month'].value_counts()"
   ]
  },
  {
   "cell_type": "code",
   "execution_count": 72,
   "id": "23a7b810-13c4-42d4-b064-7890b24a12e8",
   "metadata": {},
   "outputs": [
    {
     "data": {
      "image/png": "[encoded data removed]",
      "text/plain": [
       "<Figure size 1000x600 with 1 Axes>"
      ]
     },
     "metadata": {},
     "output_type": "display_data"
    }
   ],
   "source": [
    "plt.figure(figsize=(10,6))\n",
    "plt.bar(crimes_per_month.index,crimes_per_month.values,zorder=2)\n",
    "\n",
    "plt.title('Number of Crimes Recorded Per Month in Chicago (2001 - 2023)')\n",
    "plt.xlabel('Month')\n",
    "plt.ylabel('Number of Crimes')\n",
    "\n",
    "plt.xticks(np.arange(1,13,1),['Jan','Feb','Mar','Apr','May','Jun','Jul','Aug','Sep','Oct','Nov','Dec'])\n",
    "plt.xlim(0.5,12.5)\n",
    "\n",
    "plt.yticks(np.arange(0,800001,200000),['0','200k','400k','600k','800k'])\n",
    "\n",
    "plt.grid(True, zorder=1)\n",
    "\n",
    "plt.show()"
   ]
  },
  {
   "cell_type": "markdown",
   "id": "0862a5a4-8fde-440d-8884-6fbcaad527f7",
   "metadata": {},
   "source": [
    "While this does show that there are more crimes in certain months than others, the month with the lowest crimes is February as it just has fewer days, (3,2, or 1, depending on compared to which month, and with which year)"
   ]
  },
  {
   "cell_type": "code",
   "execution_count": 75,
   "id": "78c480db-c7b5-4b9a-b859-b6f6e497be63",
   "metadata": {},
   "outputs": [
    {
     "data": {
      "text/plain": [
       "Month\n",
       "1     622828\n",
       "2     547947\n",
       "3     650620\n",
       "4     648084\n",
       "5     705308\n",
       "6     704582\n",
       "7     741365\n",
       "8     734769\n",
       "9     691003\n",
       "10    699458\n",
       "11    630468\n",
       "12    601201\n",
       "Name: count, dtype: int64"
      ]
     },
     "execution_count": 75,
     "metadata": {},
     "output_type": "execute_result"
    }
   ],
   "source": [
    "crimes_per_month.sort_index()"
   ]
  },
  {
   "cell_type": "code",
   "execution_count": 147,
   "id": "f59b97e9-0981-493c-9392-f9f2811cc147",
   "metadata": {},
   "outputs": [
    {
     "name": "stderr",
     "output_type": "stream",
     "text": [
      "/tmp/ipykernel_381624/1774098632.py:2: SettingWithCopyWarning: \n",
      "A value is trying to be set on a copy of a slice from a DataFrame.\n",
      "Try using .loc[row_indexer,col_indexer] = value instead\n",
      "\n",
      "See the caveats in the documentation: https://pandas.pydata.org/pandas-docs/stable/user_guide/indexing.html#returning-a-view-versus-a-copy\n",
      "  alldates['Date'] = alldates['Date'].dt.date\n"
     ]
    }
   ],
   "source": [
    "alldates = pre2024[['Date']]\n",
    "alldates['Date'] = alldates['Date'].dt.date\n",
    "alldates = alldates.drop_duplicates()\n",
    "alldates.sort_values(by='Date').reset_index(drop=True)\n",
    "alldates['Date'] = pd.to_datetime(alldates['Date'], errors='coerce')\n",
    "alldates['Month'] = alldates['Date'].dt.month"
   ]
  },
  {
   "cell_type": "code",
   "execution_count": 149,
   "id": "93ee2fd6-db34-4d4d-a4cb-b8501916caef",
   "metadata": {},
   "outputs": [],
   "source": [
    "days_per_month = alldates['Month'].value_counts()\n",
    "crimes_per_month = crimes_per_month.sort_index()\n",
    "days_per_month = days_per_month.sort_index()\n",
    "daily_crimes_per_month = crimes_per_month/days_per_month"
   ]
  },
  {
   "cell_type": "code",
   "execution_count": 165,
   "id": "d5ec1ef7-3d3d-4375-85a1-398167eb590c",
   "metadata": {},
   "outputs": [
    {
     "data": {
      "image/png": "[encoded data removed]",
      "text/plain": [
       "<Figure size 1000x600 with 1 Axes>"
      ]
     },
     "metadata": {},
     "output_type": "display_data"
    }
   ],
   "source": [
    "plt.figure(figsize=(10,6))\n",
    "plt.bar(daily_crimes_per_month.index,daily_crimes_per_month.values,zorder=2)\n",
    "\n",
    "plt.title('Average Crimes per Day per Month Chicago (2001 - 2023)')\n",
    "plt.xlabel('Month')\n",
    "plt.ylabel('Crimes per Day')\n",
    "\n",
    "plt.xticks(np.arange(1,13,1),['Jan','Feb','Mar','Apr','May','Jun','Jul','Aug','Sep','Oct','Nov','Dec'])\n",
    "plt.xlim(0.5,12.5)\n",
    "\n",
    "plt.yticks(np.arange(0,1251,250),['0','250','500','750','1,000','1,250'])\n",
    "plt.ylim(0,1250)\n",
    "\n",
    "plt.grid(True, zorder=1)\n",
    "\n",
    "plt.show()"
   ]
  },
  {
   "cell_type": "markdown",
   "id": "a37368d0-3e04-4b9d-823b-a67cc979e96c",
   "metadata": {},
   "source": [
    "When looking at the average number of crimes per month, there looks to be some seasonality to it. Peaking in the summer months while having a trough in the winter months."
   ]
  },
  {
   "cell_type": "markdown",
   "id": "b68fe248-a344-489e-8ca0-2265bb37c4e0",
   "metadata": {
    "jp-MarkdownHeadingCollapsed": true
   },
   "source": [
    "### Crimes per Hour"
   ]
  },
  {
   "cell_type": "code",
   "execution_count": 201,
   "id": "2c6b3dee-170e-4c88-8c5a-e5dcad5d2d3c",
   "metadata": {},
   "outputs": [],
   "source": [
    "crimes_per_hour = pre2024['Hour'].value_counts()\n",
    "crimes_per_hour = crimes_per_hour.sort_index()"
   ]
  },
  {
   "cell_type": "code",
   "execution_count": 214,
   "id": "852975fe-1430-4fc7-91d3-ad77bb13c05e",
   "metadata": {},
   "outputs": [
    {
     "data": {
      "image/png": "[encoded data removed]",
      "text/plain": [
       "<Figure size 1000x600 with 1 Axes>"
      ]
     },
     "metadata": {},
     "output_type": "display_data"
    }
   ],
   "source": [
    "plt.figure(figsize=(10,6))\n",
    "plt.bar(crimes_per_hour.index,crimes_per_hour.values,zorder=2)\n",
    "plt.title('Number of Crimes Recorded Per Hour in Chicago (2001 - 2023)')\n",
    "plt.ylabel('Number of Crimes')\n",
    "\n",
    "plt.xticks(np.arange(0,24,3),['Midnight', '3am', '6am', '9am', 'Noon', '3pm', '6pm', '9pm'])\n",
    "plt.xlim(-0.5,23.5)\n",
    "\n",
    "plt.grid(True, zorder=1)\n",
    "\n",
    "plt.show()"
   ]
  },
  {
   "cell_type": "markdown",
   "id": "dccbaaad-2347-4f25-9ec1-4dfbcc12b519",
   "metadata": {},
   "source": [
    "When taking a look at the number of crimes that happen each hour, there are more crimes happening in the evenings than in the mornings with the times of 6pm to 10pm having spots 3-7 when sorting by the most crimes per hour.\n",
    "\n",
    "The only two other hours that have more crimes are 12am and 12pm. However this is likely due to the form having a default value of 12 the person filling the form just filling in whether it be \"AM\" or \"PM\""
   ]
  },
  {
   "cell_type": "markdown",
   "id": "883750a4-9334-469b-826f-4aff3679b102",
   "metadata": {},
   "source": [
    "### Crimes per Minute"
   ]
  },
  {
   "cell_type": "code",
   "execution_count": 223,
   "id": "7f7fce21-c523-4caf-af6e-2780e6eeaff0",
   "metadata": {},
   "outputs": [],
   "source": [
    "crimes_per_minute = pre2024['Date'].dt.minute.value_counts()"
   ]
  },
  {
   "cell_type": "code",
   "execution_count": 252,
   "id": "8341fa8a-3b3e-45ff-ae61-19baa1b27105",
   "metadata": {},
   "outputs": [
    {
     "data": {
      "image/png": "[encoded data removed]",
      "text/plain": [
       "<Figure size 1000x600 with 1 Axes>"
      ]
     },
     "metadata": {},
     "output_type": "display_data"
    }
   ],
   "source": [
    "plt.figure(figsize=(10,6))\n",
    "plt.bar(crimes_per_minute.index,crimes_per_minute.values,zorder=2)\n",
    "plt.title('Recorded Mintute of Crimes in Chicago (2001 - 2023)')\n",
    "plt.ylabel('Number of Crimes')\n",
    "plt.xlabel('Minute of Hour')\n",
    "\n",
    "plt.xlim(-0.5,59.5)\n",
    "plt.xticks(np.arange(0,60,5))\n",
    "\n",
    "plt.ylim(0,3000000)\n",
    "plt.yticks(np.arange(0,3000001,500000), ['0','500k','1m','1.5m','2m','2.5m','3m'])\n",
    "\n",
    "plt.grid(True, zorder=1)\n",
    "\n",
    "plt.show()"
   ]
  },
  {
   "cell_type": "code",
   "execution_count": 240,
   "id": "38e3c84a-19df-4aa2-9696-5b5f8343be4d",
   "metadata": {
    "scrolled": true
   },
   "outputs": [],
   "source": [
    "perc_crimes_per_minute = crimes_per_minute/pre2024['Date'].count()"
   ]
  },
  {
   "cell_type": "code",
   "execution_count": 251,
   "id": "3039de1a-dcf8-456e-815a-4ade2e983b83",
   "metadata": {},
   "outputs": [
    {
     "data": {
      "image/png": "[encoded data removed]",
      "text/plain": [
       "<Figure size 1000x600 with 1 Axes>"
      ]
     },
     "metadata": {},
     "output_type": "display_data"
    }
   ],
   "source": [
    "plt.figure(figsize=(10,6))\n",
    "plt.bar(perc_crimes_per_minute.index,perc_crimes_per_minute.values,zorder=2)\n",
    "plt.title('Recorded Mintute of Crimes in Chicago (2001 - 2023)')\n",
    "plt.ylabel('Percentage of Crimes')\n",
    "plt.xlabel('Minute of Hour')\n",
    "\n",
    "plt.xticks(np.arange(0,60,5))\n",
    "plt.xlim(-0.5,59.5)\n",
    "\n",
    "plt.yticks(np.arange(0,.36,.05),['0%','5%','10%','15%','20%','25%','30%','35%'])\n",
    "plt.ylim(0,.35)\n",
    "\n",
    "plt.grid(True, zorder=1)\n",
    "\n",
    "plt.show()"
   ]
  },
  {
   "cell_type": "markdown",
   "id": "4a6185a0-136b-44c8-ae32-9cd50e8b7495",
   "metadata": {},
   "source": [
    "Rounding the the nearest convenient part of the day was only slightly visible, rounding to the nearest convenient miniute is very visible.\n",
    "Over 1/3 of all crimes are recorded at the :00 minute mark.\n",
    "\n",
    "The minutes used seem to follow this hierarchy:\n",
    "\n",
    "Top of the hour (:00) - ~33%\n",
    "\n",
    "Half hour (:30) - ~15%\n",
    "\n",
    "15 minute marks (:15, :45) - ~10%\n",
    "\n",
    "10 minute marks (:10, :20, :40, :50) - ~13%\n",
    "\n",
    "5 minute marks (:05, :25, :35, :55) - ~7.5%\n",
    "\n",
    "All Others - ~21.5%"
   ]
  },
  {
   "cell_type": "markdown",
   "id": "61ae5e02-e966-48c1-92b3-e6e270443a8e",
   "metadata": {},
   "source": [
    "### Random Ideas:\n",
    "\n",
    "Arrest % per:\n",
    "Area/\n",
    "Type of crime/\n",
    "Location\n",
    "\n",
    "\n",
    "\n",
    "\n"
   ]
  },
  {
   "cell_type": "code",
   "execution_count": null,
   "id": "7d8fd3d1-d937-4bce-91d3-0495facab525",
   "metadata": {},
   "outputs": [],
   "source": []
  },
  {
   "cell_type": "code",
   "execution_count": null,
   "id": "5359e3db-29f0-43ce-b65d-4b3c35994b72",
   "metadata": {},
   "outputs": [],
   "source": []
  },
  {
   "cell_type": "code",
   "execution_count": null,
   "id": "66c11d1d-8f80-49dd-9a95-ccf62ac1ed69",
   "metadata": {},
   "outputs": [],
   "source": []
  },
  {
   "cell_type": "code",
   "execution_count": null,
   "id": "a419ba88-a613-4cc8-8329-c3112fd1776f",
   "metadata": {},
   "outputs": [],
   "source": []
  },
  {
   "cell_type": "code",
   "execution_count": null,
   "id": "a14f0b51-b505-4610-a6ae-699c1084adc6",
   "metadata": {},
   "outputs": [],
   "source": []
  },
  {
   "cell_type": "code",
   "execution_count": 183,
   "id": "73cc726f-edc7-4ecb-b1a4-3ba9485df96a",
   "metadata": {},
   "outputs": [],
   "source": [
    "hour_dow_crimes = crimes[['Hour','Dow','Date']].groupby(['Hour','Dow']).count()\n",
    "hour_dow_crimes.rename(columns = {'Date': 'Count'}, inplace=True)\n",
    "hour_dow_crimes.reset_index(inplace=True)"
   ]
  },
  {
   "cell_type": "code",
   "execution_count": 193,
   "id": "c8ca16af-3cf8-40c0-9927-4404acf6c230",
   "metadata": {},
   "outputs": [
    {
     "data": {
      "text/html": [
       "<div>\n",
       "<style scoped>\n",
       "    .dataframe tbody tr th:only-of-type {\n",
       "        vertical-align: middle;\n",
       "    }\n",
       "\n",
       "    .dataframe tbody tr th {\n",
       "        vertical-align: top;\n",
       "    }\n",
       "\n",
       "    .dataframe thead th {\n",
       "        text-align: right;\n",
       "    }\n",
       "</style>\n",
       "<table border=\"1\" class=\"dataframe\">\n",
       "  <thead>\n",
       "    <tr style=\"text-align: right;\">\n",
       "      <th></th>\n",
       "      <th>Hour</th>\n",
       "      <th>Dow</th>\n",
       "      <th>Count</th>\n",
       "    </tr>\n",
       "  </thead>\n",
       "  <tbody>\n",
       "    <tr>\n",
       "      <th>84</th>\n",
       "      <td>12</td>\n",
       "      <td>0</td>\n",
       "      <td>68267</td>\n",
       "    </tr>\n",
       "    <tr>\n",
       "      <th>85</th>\n",
       "      <td>12</td>\n",
       "      <td>1</td>\n",
       "      <td>69680</td>\n",
       "    </tr>\n",
       "    <tr>\n",
       "      <th>86</th>\n",
       "      <td>12</td>\n",
       "      <td>2</td>\n",
       "      <td>70678</td>\n",
       "    </tr>\n",
       "    <tr>\n",
       "      <th>87</th>\n",
       "      <td>12</td>\n",
       "      <td>3</td>\n",
       "      <td>69141</td>\n",
       "    </tr>\n",
       "    <tr>\n",
       "      <th>88</th>\n",
       "      <td>12</td>\n",
       "      <td>4</td>\n",
       "      <td>71138</td>\n",
       "    </tr>\n",
       "    <tr>\n",
       "      <th>89</th>\n",
       "      <td>12</td>\n",
       "      <td>5</td>\n",
       "      <td>62156</td>\n",
       "    </tr>\n",
       "    <tr>\n",
       "      <th>90</th>\n",
       "      <td>12</td>\n",
       "      <td>6</td>\n",
       "      <td>55140</td>\n",
       "    </tr>\n",
       "  </tbody>\n",
       "</table>\n",
       "</div>"
      ],
      "text/plain": [
       "    Hour  Dow  Count\n",
       "84    12    0  68267\n",
       "85    12    1  69680\n",
       "86    12    2  70678\n",
       "87    12    3  69141\n",
       "88    12    4  71138\n",
       "89    12    5  62156\n",
       "90    12    6  55140"
      ]
     },
     "execution_count": 193,
     "metadata": {},
     "output_type": "execute_result"
    }
   ],
   "source": [
    "hour_dow_crimes[hour_dow_crimes['Hour'] == 12]"
   ]
  },
  {
   "cell_type": "code",
   "execution_count": 191,
   "id": "dd756417-a07e-4aa7-9539-032d73652f70",
   "metadata": {},
   "outputs": [
    {
     "data": {
      "image/png": "[encoded data removed]",
      "text/plain": [
       "<Figure size 800x400 with 1 Axes>"
      ]
     },
     "metadata": {},
     "output_type": "display_data"
    }
   ],
   "source": [
    "plt.figure(figsize=[8,4])\n",
    "plt.suptitle('Hourly Crimes per Day of Week', fontsize = 16, y = 0.95)\n",
    "sns.lineplot(data = hour_dow_crimes, x = 'Hour', y = 'Count', hue = 'Dow', palette='hls', lw=2)\n",
    "\n",
    "l = plt.legend(bbox_to_anchor=(1, 1))\n",
    "l.get_texts()[0].set_text('Day of Week')\n"
   ]
  },
  {
   "cell_type": "code",
   "execution_count": null,
   "id": "599207b6-8246-4a48-b35b-be6f858e6e45",
   "metadata": {},
   "outputs": [],
   "source": []
  },
  {
   "cell_type": "code",
   "execution_count": null,
   "id": "c9a3266c-5d88-4b93-9925-0e736884809d",
   "metadata": {},
   "outputs": [],
   "source": []
  },
  {
   "cell_type": "code",
   "execution_count": null,
   "id": "67e71c7c-c4a8-4351-b584-0267e7ab7b14",
   "metadata": {},
   "outputs": [],
   "source": []
  },
  {
   "cell_type": "code",
   "execution_count": null,
   "id": "bf7fd816-5bb0-4a6d-8f9e-c25aa5bcf261",
   "metadata": {},
   "outputs": [],
   "source": []
  },
  {
   "cell_type": "markdown",
   "id": "b49e3f50-e5ee-4afe-9160-a339ba0ff4f6",
   "metadata": {},
   "source": [
    "### Random"
   ]
  },
  {
   "cell_type": "code",
   "execution_count": null,
   "id": "84a4161d-c30d-49af-8ae4-6575cda2ca35",
   "metadata": {},
   "outputs": [],
   "source": [
    "crimes['Community Area'].value_counts().head(10)"
   ]
  },
  {
   "cell_type": "code",
   "execution_count": null,
   "id": "1a6760ce-1fc2-464c-b625-e421af7aab8f",
   "metadata": {},
   "outputs": [],
   "source": [
    "CommAreas = pd.read_csv('CommAreas.csv')"
   ]
  },
  {
   "cell_type": "code",
   "execution_count": null,
   "id": "dd8730d9-0e12-4981-b9b6-af0b7e3a663b",
   "metadata": {},
   "outputs": [],
   "source": [
    "CommAreas.columns"
   ]
  },
  {
   "cell_type": "code",
   "execution_count": null,
   "id": "f4219807-b581-41d5-99f9-291db30b78b9",
   "metadata": {},
   "outputs": [],
   "source": [
    "CommAreas = CommAreas[['AREA_NUMBE', 'COMMUNITY']]"
   ]
  },
  {
   "cell_type": "markdown",
   "id": "86a55c97-18b1-423a-83d8-a73eb8bd113d",
   "metadata": {},
   "source": [
    "The community areas are labelled in numbers, which while easier to work with, makes it a bit more difficult to identify each area. \n",
    "\n",
    "Info about the Community areas and their names can be found here [here](https://data.cityofchicago.org/d/cauq-8yn6) "
   ]
  },
  {
   "cell_type": "code",
   "execution_count": null,
   "id": "04e67f14-226c-41f3-bd4e-2c5eae80259f",
   "metadata": {},
   "outputs": [],
   "source": [
    "CommAreas = CommAreas.rename(columns={'AREA_NUMBE': 'Number', 'COMMUNITY': 'Community'})"
   ]
  },
  {
   "cell_type": "code",
   "execution_count": null,
   "id": "faad062c-2839-4cdc-8b1c-505523e50193",
   "metadata": {},
   "outputs": [],
   "source": [
    "CommAreas.sort_values(by=['Number']).reset_index(drop=True)"
   ]
  },
  {
   "cell_type": "code",
   "execution_count": null,
   "id": "6074064d-4dad-429e-a9fd-fc5fcb7ea560",
   "metadata": {},
   "outputs": [],
   "source": [
    "# Create the scatterplot using seaborn\n",
    "plt.figure(figsize=(10, 13.4))\n",
    "sns.scatterplot(\n",
    "    data=crimes,\n",
    "    x='Longitude',\n",
    "    y='Latitude',\n",
    "    hue='Community Area',\n",
    "    palette='tab20',  # Choose a color palette with enough distinct colors\n",
    "    s=1,  # Size of the points\n",
    "    alpha=0.2,  # Transparency of the points\n",
    "    linewidth=0\n",
    ")\n",
    "\n",
    "# Customize the plot\n",
    "plt.xlabel('Longitude')\n",
    "plt.ylabel('Latitude')\n",
    "plt.title('Scatterplot of Crimes by Community Area')\n",
    "plt.legend(bbox_to_anchor=(1.05, 1), loc='upper left', fontsize='small', title='Community Area')\n",
    "plt.grid(True)\n",
    "\n",
    "# Show the plot\n",
    "plt.show()\n"
   ]
  },
  {
   "cell_type": "code",
   "execution_count": null,
   "id": "eacc7cd8-3abe-4139-af09-cf88072083c4",
   "metadata": {},
   "outputs": [],
   "source": []
  }
 ],
 "metadata": {
  "kernelspec": {
   "display_name": "Python 3 (ipykernel)",
   "language": "python",
   "name": "python3"
  },
  "language_info": {
   "codemirror_mode": {
    "name": "ipython",
    "version": 3
   },
   "file_extension": ".py",
   "mimetype": "text/x-python",
   "name": "python",
   "nbconvert_exporter": "python",
   "pygments_lexer": "ipython3",
   "version": "3.12.4"
  }
 },
 "nbformat": 4,
 "nbformat_minor": 5
}
